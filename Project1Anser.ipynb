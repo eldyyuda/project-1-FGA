{
 "cells": [
  {
   "cell_type": "code",
   "execution_count": 131,
   "metadata": {},
   "outputs": [],
   "source": [
    "# dictionary kurs mata uang dari IDR \n",
    "kurs = {\n",
    "    'IDR':1,\n",
    "    'USD':14879.00,\n",
    "    'GBP':18238.37,\n",
    "    'SAR':3963.19,\n",
    "    'JPY':131.90,\n",
    "    'CNY':2196.79\n",
    "}"
   ]
  },
  {
   "cell_type": "code",
   "execution_count": 132,
   "metadata": {},
   "outputs": [],
   "source": [
    "def convert(mua,mutk,jmtu):\n",
    "    savemua=''\n",
    "    savemutk=''\n",
    "    hasil=''\n",
    "\n",
    "    savemua=next(save)\n",
    "\n",
    "\n",
    "\n",
    "\n",
    "\n",
    "\n",
    "\n",
    "\n",
    "\n",
    "    # for mu,nilai in kurs.items():\n",
    "    #     if(mu == mua):\n",
    "    #         savemua=int(nilai)\n",
    "    #     else:\n",
    "    #         hasil= \"Kode Mata Uang Asal Tidak Ada\"\n",
    "    #         break\n",
    "        \n",
    "    # for mu,nilai in kurs.items(): \n",
    "    #     if(mu == mutk):\n",
    "    #         savemutk=int(nilai)\n",
    "    #     else:\n",
    "    #         hasil= \"Kode Mata Uang Asal Tidak Ada\"\n",
    "    #         break\n",
    "    # print(f\"{savemutk} tes  {savemua}\")\n",
    "    # print(mua,mutk,jmtu)\n",
    "    # for mu,nilai in kurs.items():\n",
    "    #     if(mu==mutk):\n",
    "    #         print(\"bisa 2\")\n",
    "    #         break\n",
    "    #     else:\n",
    "    #         hasil= \"Kode Mata Uang Asal Tidak Ada\"\n",
    "    #         break\n",
    "    #     if(mua in k):\n",
    "    #         savemua=kurs[k]\n",
    "    #         break\n",
    "    #     elif(mua not in k):\n",
    "    #         return \"Kode mata uang asal tidak ada\"\n",
    "    # for k in kurs:    \n",
    "    #     if(k==mutk):\n",
    "    #         savemutk=kurs[k]\n",
    "    #         break\n",
    "    #     elif(k!=mutk):\n",
    "    #         return \"kode mata uang tujuan tidak ada\"\n",
    "\n",
    "    # hasilMua=savemua*jmtu\n",
    "    # hasil=hasilMua*savemutk\n",
    "    # return print(f'{hasil} {mutk}')\n",
    "    \n"
   ]
  },
  {
   "cell_type": "code",
   "execution_count": 133,
   "metadata": {},
   "outputs": [
    {
     "name": "stdout",
     "output_type": "stream",
     "text": [
      " tes  1\n",
      "IDR USD 100.0\n"
     ]
    }
   ],
   "source": [
    "if __name__ == \"__main__\":\n",
    "    try:\n",
    "        mua = input('Pilih Mata Uang asal Anda (IDR,USD,GBP,SAR,JPY,CNY):')\n",
    "        upperMua=mua.upper()\n",
    "        mutk = input('Pilih Mata Uang tujuan konversi (IDR,USD,GBP,SAR,JPY,CNY):')\n",
    "        upperMutk=mutk.upper()\n",
    "        jmtu = float(input('Masukkan Jumlah mata uang yang ingin dikonversi:'))\n",
    "        if (jmtu <0):\n",
    "            raise Exception\n",
    "        # print(upperMua,upperMutk)\n",
    "        convert(upperMua,upperMutk,jmtu)\n",
    "    except Exception as e:\n",
    "        print(e)\n",
    "        # print('pada jumlah mata uang input tidak bilangan positif atau bukan angka numerik')\n"
   ]
  }
 ],
 "metadata": {
  "kernelspec": {
   "display_name": "Python 3.8.13 ('python3.8')",
   "language": "python",
   "name": "python3"
  },
  "language_info": {
   "codemirror_mode": {
    "name": "ipython",
    "version": 3
   },
   "file_extension": ".py",
   "mimetype": "text/x-python",
   "name": "python",
   "nbconvert_exporter": "python",
   "pygments_lexer": "ipython3",
   "version": "3.8.13"
  },
  "orig_nbformat": 4,
  "vscode": {
   "interpreter": {
    "hash": "5f9778983ea8a37abf4712055192efffb4a1f431eafbe5837ff37ebd1c67c214"
   }
  }
 },
 "nbformat": 4,
 "nbformat_minor": 2
}
