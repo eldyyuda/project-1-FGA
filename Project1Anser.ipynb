{
 "cells": [
  {
   "cell_type": "code",
   "execution_count": 95,
   "metadata": {},
   "outputs": [],
   "source": [
    "# dictionary kurs mata uang dari IDR \n",
    "kurs = {\n",
    "    'IDR':1,\n",
    "    'USD':14879.00,\n",
    "    'GBP':18238.37,\n",
    "    'SAR':3963.19,\n",
    "    'JPY':131.90,\n",
    "    'CNY':2196.79\n",
    "}"
   ]
  },
  {
   "cell_type": "code",
   "execution_count": 96,
   "metadata": {},
   "outputs": [],
   "source": [
    "\n",
    "# define Python user-defined exceptions\n",
    "class Error(Exception):\n",
    "    \"\"\"Base class for other exceptions\"\"\"\n",
    "    pass\n",
    "\n",
    "\n",
    "class KursException(Error):\n",
    "       pass\n",
    "\n",
    "class NegatifException(Error):\n",
    "    pass"
   ]
  },
  {
   "cell_type": "code",
   "execution_count": 97,
   "metadata": {},
   "outputs": [],
   "source": [
    "def convert(mua,mutk,jmtu):\n",
    "    savemua=kurs.get(mua)\n",
    "    savemutk=kurs.get(mutk)\n",
    "    if(savemua==None or savemutk==None):\n",
    "        raise KursException\n",
    "    hasil=savemua*savemutk*jmtu\n",
    "    return print(hasil)"
   ]
  },
  {
   "cell_type": "code",
   "execution_count": 98,
   "metadata": {},
   "outputs": [
    {
     "name": "stdout",
     "output_type": "stream",
     "text": [
      "Kode mata uang input tidak ada\n"
     ]
    }
   ],
   "source": [
    "if __name__ == \"__main__\":\n",
    "    try:\n",
    "        mua = input('Pilih Mata Uang asal Anda (IDR,USD,GBP,SAR,JPY,CNY):')\n",
    "        upperMua=mua.upper()\n",
    "        mutk = input('Pilih Mata Uang tujuan konversi (IDR,USD,GBP,SAR,JPY,CNY):')\n",
    "        upperMutk=mutk.upper()\n",
    "        jmtu = float(input('Masukkan Jumlah mata uang yang ingin dikonversi:'))\n",
    "        if (jmtu <0):\n",
    "            raise NegatifException\n",
    "        # print(upperMua,upperMutk)\n",
    "        convert(upperMua,upperMutk,jmtu)\n",
    "    except NegatifException as e:\n",
    "        # print(e)\n",
    "        print('Pada jumlah mata uang input tidak bilangan positif')\n",
    "    except KursException as KE:\n",
    "        print('Kode mata uang input tidak ada')\n"
   ]
  }
 ],
 "metadata": {
  "kernelspec": {
   "display_name": "Python 3.8.13 ('python3.8')",
   "language": "python",
   "name": "python3"
  },
  "language_info": {
   "codemirror_mode": {
    "name": "ipython",
    "version": 3
   },
   "file_extension": ".py",
   "mimetype": "text/x-python",
   "name": "python",
   "nbconvert_exporter": "python",
   "pygments_lexer": "ipython3",
   "version": "3.8.13"
  },
  "orig_nbformat": 4,
  "vscode": {
   "interpreter": {
    "hash": "643608439dc70d6a6efbd315420a1a89a34900309b30fe2a7767aed018ac96a2"
   }
  }
 },
 "nbformat": 4,
 "nbformat_minor": 2
}
