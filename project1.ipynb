{
 "cells": [
  {
   "cell_type": "markdown",
   "metadata": {},
   "source": [
    "## Buatlah sebuah program yang menerima input berupa nilai mata uang yang berasal dari suatu negara kemudian mengkonversinya ke mata uang negara lain (Gunakan function dan dictionary)"
   ]
  },
  {
   "cell_type": "markdown",
   "metadata": {},
   "source": [
    "## Langkah pertama **buatlah dictionary** dari 6 mata uang negara dibawah ini dengan kode negara dan nilai tukar mata uang nya terhadap IDR (Indonesian Rupiah)\n",
    "### **1. IDR = Rp.1 (Indonesian Rupiah)**\n",
    "### **2. USD = Rp.14879.00 (United States Dollar)**\n",
    "### **3. GBP = Rp.18238.37 (British Pound Sterling)**\n",
    "### **4. SAR = Rp.3963.19 (Saudi Riyal)**\n",
    "### **5. JPY = Rp.131.90 (Japanese Yen)**\n",
    "### **6. CNY = Rp.2196.79 (Chinese Yuan)**\n",
    "\n",
    "\n",
    "## Langkah kedua buatlah sebuah fungsi *convert()* yang menerima **3 (tiga)** argumen berupa mata uang asal, mata uang yang ingin dikonversi, dan jumlah mata uang asal yang ingin dikonversi. Fungsi tersebut harus mengembalikan hasil berupa hasil konversi dari mata uang asal ke mata uang yang ingin dikonversi"
   ]
  },
  {
   "cell_type": "markdown",
   "metadata": {},
   "source": [
    "## Requirement:\n",
    "### 1. Program mengecek input kode mata uang dari user dan mengeluarkan pesan error apabila user salah menginputkan kode mata uang.\n",
    "### 2. Program mengecek jenis inputan dari user dan mengeluarkan pesan error apabila user menginputkan selain bilangan positif."
   ]
  },
  {
   "cell_type": "markdown",
   "metadata": {},
   "source": [
    "## Contoh input dan output\n",
    "### input\n",
    "    Pilih mata uang asal anda (IDR, USD, GBP, SAR, JPY, CNY): USD\n",
    "    Pilih mata uang tujuan konversi (IDR, USD, GBP, SAR, JPY, CNY): IDR\n",
    "    Masukkan jumlah mata uang yang ingin dikonversi: 100\n",
    "\n",
    "### output\n",
    "    Nilai mata uang anda setelah konversi adalah 1447935.00 IDR\n",
    "\n",
    "### input\n",
    "    Pilih mata uang asal anda (IDR, USD, GBP, SAR, JPY, CNY): GBP\n",
    "    Pilih mata uang tujuan konversi (IDR, USD, GBP, SAR, JPY, CNY): JPY\n",
    "    Masukkan jumlah mata uang yang ingin dikonversi: 500\n",
    "\n",
    "### output\n",
    "    Nilai mata uang anda setelah konversi adalah 76165.30 JPY\n",
    "\n",
    "### input\n",
    "    Pilih mata uang asal anda (IDR, USD, GBP, SAR, JPY, CNY): SAR\n",
    "    Pilih mata uang tujuan konversi (IDR, USD, GBP, SAR, JPY, CNY): SAR\n",
    "    Masukkan jumlah mata uang yang ingin dikonversi: 20000\n",
    "\n",
    "### output\n",
    "    Nilai mata uang anda setelah konversi adalah 20000.00 SAR"
   ]
  }
 ],
 "metadata": {
  "kernelspec": {
   "display_name": "Python 3.9.13 64-bit (windows store)",
   "language": "python",
   "name": "python3"
  },
  "language_info": {
   "name": "python",
   "version": "3.9.13"
  },
  "orig_nbformat": 4,
  "vscode": {
   "interpreter": {
    "hash": "0c880bf50398c9e6ebbd48c247ea31cff5c6f8ce48b9cfb1b78e929d6cc40437"
   }
  }
 },
 "nbformat": 4,
 "nbformat_minor": 2
}
